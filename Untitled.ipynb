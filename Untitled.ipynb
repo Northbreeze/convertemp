{
 "cells": [
  {
   "cell_type": "markdown",
   "metadata": {},
   "source": [
    "| Option | Pros| Cons|\n",
    "|--------|-----|-----|\n",
    "| 1      | Checks for condition n=0, if yes it exits the function. List is empty exits | Return statement exits the statement immediately. Rest of the program function is not evaluated                                                           |\n",
    "| 2      | Assert also check the condition for n=0, exits the function after checking it. Warning message is displayed. Assertion error trail tells , where the function is wrong. Specific error is displayed. | Rest of the function is not evaluated. No try and except function there                                                                                   |\n",
    "| 3      | Function check n=0, This is efficient way of handling error. try and error is an efficient way of raising errors                                                                                     | Length function is in try statement, efficient way of programming could have been if that would have been defined globally. There are no warning messages |\n",
    "| 4      | Try and except is a good way to catch error. Raise is used to catch error. Warning message also there with trail. Warning message is pretty informative in that aspect                               |                                                                                                                                                           |\n",
    "| 5      | This is similar to option 4, Try -except is used. Two except conditions are used here .                                                                                                              | No warning message                                                                                                                                        |\n",
    "| 6      |                                                                                                                                                                                                      |                                                                                                                                                           |\n",
    "| 7      |                                                                                                                                                                                                      |                                                                                                                                                           |"
   ]
  },
  {
   "cell_type": "markdown",
   "metadata": {},
   "source": [
    "| Item | Option | Pros | Cons |\n",
    "|------|--------|------|------|\n",
    "| 1    | No exception/error|R itself is showing Nan which is useful to get the general idea about the error. In our example, it meant that we had 0/0 error in the function.|There is no warning or excpetion message so the user might not know the meaning of NaN. Without exception handling, we can't find the cause of the error. In addition, we can't differentiate error types without error and exception handling.|\n",
    "| 2    | Stopifnot()| 1- stops execution of the current expression and executes an error action. 2- accesible to condition handler 3- quick way to check multiple conditions on the input 4- has the convenience of stating the negative, so your condition in the if needs to be the negation of your stop condition 5- It is easy to read the function|1- stopifnot() is not aiming to test code, it aims at stopping an execution if some conditions are not met during the run. For nested function, the performance would be lower than other error handling functions. 2- If there are multiple statements to be checked by stopifnot(), it just returns the first value that was not TRUE|\n",
    "| 3    |Assertion()|1- It emits a message in case of an error. It will print the error message and the error code (e.g., assertion faile: x should contain numbers, Error: ! is null is not True). 2- assertive and assertthat are for run-time testing 3- The assertive and assertthat packages have more readable check functions than stopifnot.    |1- The base R doesn't have assert so library assertthat and assertr should be used. 2- In comparsion to stoifnot, assertion is not easy to read and be undrestood by non-developers.   |\n",
    "| 4    |Warning      |The code will run regardless of the error as warning doesn't stop the execution of the function, The warning function will output a message after a function finishes.      |It doesn't stop the execution of the code, just prints warning message. So the user is not required to take any action if he deosn't want to fix the code.|\n",
    "| 5    |trycatch() |1- substitute our own return value when errors (or warnings) are returned. 2-  Allows us to write our own error and warning handlers. 3- Generating warnings and errors from within a function. 4 - Providing alternative return values when a function generates a warning or error. 5- Suppressing warning messages||"
   ]
  },
  {
   "cell_type": "code",
   "execution_count": null,
   "metadata": {
    "collapsed": true
   },
   "outputs": [],
   "source": []
  }
 ],
 "metadata": {
  "anaconda-cloud": {},
  "kernelspec": {
   "display_name": "Python [default]",
   "language": "python",
   "name": "python3"
  },
  "language_info": {
   "codemirror_mode": {
    "name": "ipython",
    "version": 3
   },
   "file_extension": ".py",
   "mimetype": "text/x-python",
   "name": "python",
   "nbconvert_exporter": "python",
   "pygments_lexer": "ipython3",
   "version": "3.5.2"
  }
 },
 "nbformat": 4,
 "nbformat_minor": 0
}
